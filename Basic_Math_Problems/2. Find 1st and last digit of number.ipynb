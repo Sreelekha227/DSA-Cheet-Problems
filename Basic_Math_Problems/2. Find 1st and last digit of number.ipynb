{
 "cells": [
  {
   "cell_type": "markdown",
   "metadata": {},
   "source": [
    "Using Loop "
   ]
  },
  {
   "cell_type": "code",
   "execution_count": 10,
   "metadata": {},
   "outputs": [
    {
     "name": "stdout",
     "output_type": "stream",
     "text": [
      "First digit is 6\n",
      "Last digit is 8\n"
     ]
    }
   ],
   "source": [
    "# First Digit\n",
    "\n",
    "def first_digit(n):\n",
    "    while n>=10:\n",
    "        n=n/10\n",
    "    return int(n)\n",
    "n = 628348\n",
    "print(\"First digit is\",first_digit(n))\n",
    "\n",
    "# Last Digit\n",
    "\n",
    "def last_digit(n):\n",
    "    return (n%10)\n",
    "n = 628348\n",
    "print(\"Last digit is\",last_digit(n))"
   ]
  },
  {
   "cell_type": "markdown",
   "metadata": {},
   "source": [
    "Using string operation"
   ]
  },
  {
   "cell_type": "code",
   "execution_count": null,
   "metadata": {},
   "outputs": [
    {
     "name": "stdout",
     "output_type": "stream",
     "text": [
      "The first digit is 6\n",
      "The last digit is 2\n"
     ]
    }
   ],
   "source": [
    "# First Digit\n",
    "\n",
    "n = 641022\n",
    "S = str(n)\n",
    "first_digit = int(S[0])\n",
    "print(\"First digit is\",first_digit)\n",
    "\n",
    "# Last Digit\n",
    "\n",
    "last_digit = int(S[-1])\n",
    "print(\"Last digit is\",last_digit)\n"
   ]
  }
 ],
 "metadata": {
  "kernelspec": {
   "display_name": "Python 3",
   "language": "python",
   "name": "python3"
  },
  "language_info": {
   "codemirror_mode": {
    "name": "ipython",
    "version": 3
   },
   "file_extension": ".py",
   "mimetype": "text/x-python",
   "name": "python",
   "nbconvert_exporter": "python",
   "pygments_lexer": "ipython3",
   "version": "3.12.4"
  }
 },
 "nbformat": 4,
 "nbformat_minor": 2
}
